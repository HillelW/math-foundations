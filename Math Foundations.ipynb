{
 "cells": [
  {
   "cell_type": "markdown",
   "metadata": {},
   "source": [
    "# Math Foundations with Python"
   ]
  },
  {
   "cell_type": "markdown",
   "metadata": {},
   "source": [
    "## Propositional Logic\n",
    "\n",
    "propositional logic is the simplest kind of logic, in the sense that it does not use any variables.  \n",
    "\n",
    "For our purposes, we only need to understand how *and* and *or* work in propositional logic. In this context, *and* and *or* are called *logical connectives* because they connect two smaller propositions to make one larger proposition.  \n",
    "\n",
    "*and* builds one bigger proposition from two smaller propositions in such a way that the bigger proposition is only true if both of the two smaller propositions are true.  \n",
    "\n",
    "*or* builds builds one bigger proposition from two smaller propositions in such a way that the bigger proposition is only true if at least *one* of the two smaller propositions are true.\n",
    "\n",
    "For example, the following two propositions are both true:\n",
    "\n",
    "1. \"humans live on earth *and* clouds are white.\"\n",
    "2. \"humans live on earth *or* unicorns exist.\"\n",
    "\n",
    "The following code shows "
   ]
  },
  {
   "cell_type": "code",
   "execution_count": 1,
   "metadata": {},
   "outputs": [
    {
     "name": "stdout",
     "output_type": "stream",
     "text": [
      "True and True: True\n",
      "True and False: False\n",
      "False and True: False\n",
      "False and False: False\n",
      "\n",
      "True or True: True\n",
      "True or False: True\n",
      "False or True True\n",
      "False or False: False\n"
     ]
    }
   ],
   "source": [
    "print('True and True:', True and True)\n",
    "print('True and False:', True and False)\n",
    "print('False and True:', False and True)\n",
    "print('False and False:', False and False)\n",
    "\n",
    "print()\n",
    "print('True or True:', True or True)\n",
    "print('True or False:', True or False)\n",
    "print('False or True', False or True)\n",
    "print('False or False:', False or False)"
   ]
  },
  {
   "cell_type": "markdown",
   "metadata": {},
   "source": [
    "## Sets\n",
    "\n",
    "### Definition of a Set\n",
    "\n",
    "A *set* is the simplest possible collection of objects that we can think of. A set is an example of a *data structure*. A *data structure* is like a house that stores data in precise ways.\n",
    "\n",
    "Given a set, we are only allowed to form propositions about the set that relate to whether or not some element is a *member* of the set. \n",
    "\n",
    "For example, consider the following set:\n",
    "\n",
    "{1, 2, 3}. \n",
    "\n",
    "Let’s call this set *A* so that it’s more convenient to discuss:\n",
    "\n",
    "A = {1, 2, 3}.\t\n",
    "\n",
    "The proposition \"1 is an element of A\" is True.  \n",
    "The proposition \"100 is an element of A\" is False.\n",
    "\n",
    "We can implement this in Python as follows:"
   ]
  },
  {
   "cell_type": "code",
   "execution_count": 2,
   "metadata": {},
   "outputs": [
    {
     "name": "stdout",
     "output_type": "stream",
     "text": [
      "1 is an element of the set A: True\n",
      "100 is an element of the set A: False\n"
     ]
    }
   ],
   "source": [
    "A = {1, 2, 3}\n",
    "\n",
    "print('1 is an element of the set A:', 1 in A)\n",
    "print('100 is an element of the set A:', 100 in A)"
   ]
  },
  {
   "cell_type": "markdown",
   "metadata": {},
   "source": [
    "### Set Equality\n",
    "\n",
    "Two sets are considered *equal* as long as the same propositions made about both sets always agree in their truth values.  \n",
    "\n",
    "This definition of equality has two important consequences:  \n",
    "\n",
    "1. A set has no associated concept of order.\n",
    "2. A set has no associated concept of repetition.\n",
    "\n",
    "We can see why the above two consequences follow from the definition of a set by looking at some examples.  \n",
    "\n",
    "To see why a set does not have a concept of order, consider the following two sets:  \n",
    "\n",
    "A = {1, 1, 1} and\n",
    "B = {1}  \n",
    "\n",
    "The proposition \"1 is an element of A\" is True, and the proposition \"1 is an element of B\" is True.   \n",
    "\n",
    "Likewise, all propositions which are False with respect to A are also False with respect to B.  \n",
    "\n",
    "For example, the proposition \"100 is an element of A\" is False, and the proposition \"100 is an element of B\" is also False. Because any propositions we can make about set A will always have the same Truth value as the propositions we make about set B, we conclude that the two sets are equal.  \n",
    "\n",
    "\n",
    "To see why a set has no concept of repetition, consider the following two sets:  \n",
    "\n",
    "A = {1, 2, 3},    \n",
    "B = {2, 1, 3}. \n",
    "\n",
    "The proposition \"1 is an element of A\" is True, and the proposition \"1 is an element of B\" is True. Likewise, all propositions which are False with respect to A are also False with respect to B. For example, the proposition \"100 is an element of A\" is False, and the proposition \"100 is an element of B” is also False. Because any propositions we can make about set A will always have the same Truth value as the propositions we make about set B, we conclude that the two sets are equal.  \n",
    "\n",
    "In other words, a set is *blind* to the concepts of repetition and order.\n",
    "\n",
    "We can see these ideas in Python as follows:"
   ]
  },
  {
   "cell_type": "code",
   "execution_count": 3,
   "metadata": {},
   "outputs": [
    {
     "name": "stdout",
     "output_type": "stream",
     "text": [
      "set A equals set B: True\n",
      "set A equals set B: True\n"
     ]
    }
   ],
   "source": [
    "# a set has no concept of repetition\n",
    "\n",
    "A = {1, 1, 1}\n",
    "B = {1}\n",
    "\n",
    "print('set A equals set B:', A == B)"
   ]
  },
  {
   "cell_type": "code",
   "execution_count": 4,
   "metadata": {},
   "outputs": [],
   "source": [
    "# a set has no concept of order\n",
    "\n",
    "A = {1, 2, 3} \n",
    "B = {2, 1, 3}\n",
    "\n",
    "print('set A equals set B:', A == B)"
   ]
  },
  {
   "cell_type": "markdown",
   "metadata": {},
   "source": [
    "### Cardinality of a Set\n",
    "\n",
    "The number of elements in a set is called the *cardinality of the set*.   \n",
    "\n",
    "For example, the set {4, 5, 6} has a cardinality of 3 since it contains 3 elements.  \n",
    "\n",
    "We can measure the cardinality of a set in Python using the len () function. We will cover functions in more depth in a later section. For now, it is sufficient to understand that a function takes a *list* of inputs and returns *one* output:"
   ]
  },
  {
   "cell_type": "code",
   "execution_count": 5,
   "metadata": {},
   "outputs": [],
   "source": [
    "print('the length of {4, 5, 6} is:', len({4, 5, 6}))"
   ]
  },
  {
   "cell_type": "markdown",
   "metadata": {},
   "source": [
    "### Combining Sets\n",
    "\n",
    "So far, we have seen that we can create individual set such as {1, 2, 3}.   \n",
    "\n",
    "We can also *combine* two sets to make one set in various ways.  \n",
    "\n",
    "One way of combining two sets is to dump the elements from each of the first two sets into a third set.   \n",
    "\n",
    "We call this third set the *union* of the two sets.  \n",
    "\n",
    "We can compute the union of two sets in Python as follows using the symbol `|`:"
   ]
  },
  {
   "cell_type": "code",
   "execution_count": 6,
   "metadata": {},
   "outputs": [],
   "source": [
    "A = {1, 2, 3}\n",
    "B = {4, 5, 6}\n",
    "union = A | B\n",
    "\n",
    "print('the union of sets A and B is the set:', union)"
   ]
  },
  {
   "cell_type": "markdown",
   "metadata": {},
   "source": [
    "Another way of combining two sets to make a third set is to collect only those elements that are members of both sets.  \n",
    "We call this third set the *intersection* of the two sets.  \n",
    "\n",
    "We can compute the intersection of two sets in Python as follows:"
   ]
  },
  {
   "cell_type": "code",
   "execution_count": 7,
   "metadata": {},
   "outputs": [],
   "source": [
    "A = {1, 2, 3}\n",
    "B = {3, 4, 5}\n",
    "intersection = A | B\n",
    "\n",
    "print('the intersection of sets A and B is the set:', intersection)"
   ]
  },
  {
   "cell_type": "markdown",
   "metadata": {},
   "source": [
    "Note that if two sets have no elements in common, then their intersection is a set with no elements in it, called *the empty set*:"
   ]
  },
  {
   "cell_type": "code",
   "execution_count": 8,
   "metadata": {},
   "outputs": [],
   "source": [
    "A = {1, 2, 3}\n",
    "B = {4, 5, 6}\n",
    "intersection = A & B\n",
    "\n",
    "print('the intersection of sets A and B is the set:', intersection)"
   ]
  },
  {
   "cell_type": "markdown",
   "metadata": {},
   "source": [
    "### Subsets\n",
    "\n",
    "One set A is a *subset* of a second set B is all elements of A are elements of B. \n",
    "\n",
    "For example, the set {1, 2, 3} is a subset of the set {1, 2, 3, 4}.\n",
    "\n",
    "We can see this in Python as follows:"
   ]
  },
  {
   "cell_type": "code",
   "execution_count": 9,
   "metadata": {},
   "outputs": [],
   "source": [
    "A = {1, 2, 3}\n",
    "B = {1, 2, 3, 4}\n",
    "\n",
    "print('set A is a subset of set B:', A.issubset(B))"
   ]
  },
  {
   "cell_type": "markdown",
   "metadata": {},
   "source": [
    "## Lists\n",
    "\n",
    "Now that we understand the collection known as a *set*, we can consider a different kind of collection called a *list*. We write a list by wrapping it in brackets.   \n",
    "\n",
    "For example [1, 2, 3] is a list of three numbers.   \n",
    "\n",
    "In contrast to a set, a list recognizes both order and repetition.   \n",
    "\n",
    "We can see that these two facts are True in Python as follows:"
   ]
  },
  {
   "cell_type": "code",
   "execution_count": 10,
   "metadata": {},
   "outputs": [],
   "source": [
    "# unlike a set, a list recognizes repetition\n",
    "\n",
    "A = [1, 1, 1]\n",
    "B = [1]\n",
    "\n",
    "print('list A equals list B:', A == B)"
   ]
  },
  {
   "cell_type": "code",
   "execution_count": 11,
   "metadata": {},
   "outputs": [],
   "source": [
    "# unlike a set, a list recognizes order\n",
    "\n",
    "A = [1, 2, 3]\n",
    "B = [3, 2, 1]\n",
    "\n",
    "print('list A equals list B:', A == B)"
   ]
  },
  {
   "cell_type": "markdown",
   "metadata": {},
   "source": [
    "## Tuples\n",
    "\n",
    "A tuple is the same as a list, except that it cannot be changed. Tuples denoted using parentheses instead of brackets.  \n",
    "We can see the difference in Python:"
   ]
  },
  {
   "cell_type": "code",
   "execution_count": 12,
   "metadata": {},
   "outputs": [],
   "source": [
    "A = [1, 2, 3]\n",
    "print('initial list:', A)\n",
    "\n",
    "A.append(4)\n",
    "print('final list:', A)\n",
    "\n",
    "print()\n",
    "\n",
    "A = (1, 2, 3)\n",
    "print('this tuple cannot be changed:', A)"
   ]
  },
  {
   "cell_type": "markdown",
   "metadata": {},
   "source": [
    "# Sets of Ordered Pairs\n",
    "\n",
    "Now that we understand the data structures of set, list and tuple, we can get creative by *embedding* these data structures inside of each other. For example, we can imagine a set of tuples, or a tuple of sets, etc.\n",
    "\n",
    "We will be particularly interested in taking tuples that have exactly two elements and nesting them inside of sets. A tuple with only two elements is called an *ordered pair* for obvious reasons. We call an arbitrary set of ordered pairs a *relation* because it relates the first component of each ordered pair in the set to the second component in the ordered pair.  \n",
    "\n",
    "The following set is an example of a relation:\n",
    "\n",
    "{(1, 2), (1, 3)}.\n",
    "\n",
    "Note that the cardinality of the above relation is 2, since there are exactly 2 tuples in the set:"
   ]
  },
  {
   "cell_type": "code",
   "execution_count": 13,
   "metadata": {},
   "outputs": [],
   "source": [
    "len({(1, 2), (1, 3)})"
   ]
  },
  {
   "cell_type": "markdown",
   "metadata": {},
   "source": [
    "In the context of science and mathematics, we are often interested in a particular kind of relation called a *function*. A function is a set of ordered pairs that satisfies the property that any given first component of an ordered pair is only ever paired once with a given second component. \n",
    "\n",
    "The following relation is not a function because the number 1 appears paired with both 2 and 3 in different ordered pairs. \n",
    "\n",
    "{(1, 2), (1, 3)}.  \n",
    "\n",
    "In contrast, the following relation *is* an example of a function:\n",
    "\n",
    "{(1, 2), (3, 4)}.  \n",
    "\n",
    "Since each ordered pair in a function has only two elements, we can imagine a machine where the first element of each ordered pair as an *input* into the machine and of the second element in each ordered pair as an *output* of the machine when given the corresponding input.  \n",
    "\n",
    "This way of thinking turns out to very useful for solving many different kinds of problems."
   ]
  },
  {
   "cell_type": "markdown",
   "metadata": {},
   "source": [
    "## Predicates\n",
    "\n",
    "A predicate is a special kind of function where the second component in each ordered pair is either True or False.  \n",
    "\n",
    "For example, the following function is a predicate:\n",
    "\n",
    "{(1, False), (2, True), (3, False), (4, True)}.  \n",
    "\n",
    "We can see how such a predicate might be useful to keep track of which numbers are even and which are odd.  "
   ]
  },
  {
   "cell_type": "markdown",
   "metadata": {},
   "source": [
    "## Set Comprehensions\n",
    "\n",
    "To conveniently talk about large sets without explicitly listing all the members of the set, we use the following shorthand:  \n",
    "\n",
    "{x | some predicate is True of x}.  \n",
    "\n",
    "The above notation means that we intend to form the set of all objects such that some predicate is true of x.  \n",
    "\n",
    "For example, consider the following example:\n",
    "\n",
    "{x | (x is a natural number) and (x < 5)}.  \n",
    "\n",
    "The above set is the collection of all natural numbers that are less than 5. \n",
    "\n",
    "If we write this set explicitly, it looks as follows:\n",
    "\n",
    "{1, 2, 3, 4}.  \n",
    "\n",
    "Notice that the proposition after the vertical bar `|` in our compressed set definition serves as a *filter* and distinct from the vertical bar we used for *or* in propositional logic.   \n",
    "\n",
    "\n",
    "We can carry out a similar filtering process to form this set in Python as follows:"
   ]
  },
  {
   "cell_type": "code",
   "execution_count": 14,
   "metadata": {},
   "outputs": [],
   "source": [
    "numbers_to_filter = {1, 2, 3, 4, 5, 6, 7, 8, 9, 10}\n",
    "A = {x for x in numbers_to_filter if x < 5}\n",
    "print(A)"
   ]
  },
  {
   "cell_type": "markdown",
   "metadata": {},
   "source": [
    "## Computing Functions\n",
    "\n",
    "Now that we understand what a function is, we can define what it means to *compute* a function. Once we have defined a function, we can define a *machine* that takes as input any first component of an ordered pair from that function and returns as output the corresponding second component from the same ordered pair. *Programming* involves building machines that compute functions.  \n",
    "\n",
    "For example, given the function:  \n",
    "\n",
    "f = { (1, 2), (3, 4) },\n",
    "\n",
    "We can say that we have built a machine that computes the function *f* if when we give the number 1 to f as input, the machine f returns a 2 as output, and when we give the number 3 to f as input, the machine f returns a 4 as output. There are usually *many* ways we can build a machine that computes a function. However, all of these various machines compute the same underlying function. It turns out that *the only thing a computer can do is compute functions*.  \n",
    "\n",
    "Unfortunately, the convention is to use the word *function* to refer to both the function being computed and the machine that computes the function. Depending on the context, we we use the word *function* we can mean either a set of ordered pairs, or a machine that computes a function. \n",
    "\n",
    "In Python, we build a machine to compute a function using the keyword *def*. The following is an example of a machine that computes the function that associates each number with the number that comes after it (its successor):"
   ]
  },
  {
   "cell_type": "code",
   "execution_count": 15,
   "metadata": {},
   "outputs": [],
   "source": [
    "def add_one(number: int) -> int:\n",
    "    return number + 1"
   ]
  },
  {
   "cell_type": "markdown",
   "metadata": {},
   "source": [
    "The machine we just built has the following components:\n",
    "1.  The keyword *def*.\n",
    "2.  An *arbitrary* function name provided by us (in this case \"plus_one\").\n",
    "3.\tA list of arbitrarily named inputs surrounded by parentheses together with their types.\n",
    "4.  The type of output returned by the function after a right-pointing arrow.\n",
    "4.\tA colon `:` character.\n",
    "5.\tA return statement that specifies what should the output of our machine should be.\n",
    "\n",
    "We call the machine we have defined a *function definition*.\n",
    "Now that we have built our machine, we can use it by passing an actual input into it.  \n",
    "\n",
    "We can use our machine in Python as follows:"
   ]
  },
  {
   "cell_type": "code",
   "execution_count": 16,
   "metadata": {},
   "outputs": [],
   "source": [
    "add_one(100)"
   ]
  },
  {
   "cell_type": "markdown",
   "metadata": {},
   "source": [
    "We call using a machine in this way a *function call*.\n",
    "\n",
    "Note that a function call consists of the following parts:\n",
    "\n",
    "1.\tThe name of the machine we want to use.\n",
    "2.\tA list of inputs passed to the machine surrounded by parentheses.\n"
   ]
  },
  {
   "cell_type": "markdown",
   "metadata": {},
   "source": [
    "## Repetition with Loops\n",
    "\n",
    "Repetition involves doing the same thing over and over in a slightly different context. This is analogous to the way one might cross monkey bars. To go from the first bar to the second bar, the same actions are taken as when going from the second bar to the third bar, except the context of the actions has changed. By doing the same actions over and over again, the entire length of the monkey bars is eventually crossed.\n",
    "\n",
    "One useful repetition mechanism in the context of programming is called a *for loop*. \n",
    "\n",
    "In Python, we can use a for loop to traverse a collection of objects. For example:\n"
   ]
  },
  {
   "cell_type": "code",
   "execution_count": 17,
   "metadata": {},
   "outputs": [],
   "source": [
    "for element in {1, 2, 3, 4, 5}:\n",
    "    print(element)"
   ]
  },
  {
   "cell_type": "markdown",
   "metadata": {},
   "source": [
    "If we think of the set {1, 2, 3, 4, 5} as monkey bars that we want to cross, then the above is the programmatic equivalent of a crossing monkey bars. The for loop says that we should keep jumping from one number to the next and execute some action each time we hit a new number. In this case, the action we have chosen is simply to print the number we are currently looking at.\n",
    "\n",
    "## Bootstrapping Interlude\n",
    "\n",
    "*Bootstrapping* is the idea that starting with a very basic set of operations, we can slowly build our way up to more and more complex operations. Bootstrapping is at the heart of what makes computers useful. After all, the central processor of any computer is only capable of very primitive operations such as addition, multiplication, and some logical operations.   \n",
    "\n",
    "Computers are only useful because after many years of work, programmers have figured out how to bootstrap more complex operations from these initial primitive operations. As an example of how bootstrapping works, we will build up a mathematical library of machines by starting with the most primitive machine we can imagine: a machine that adds one to its input and returns the result.   \n",
    "\n",
    "However, before we begin this bootstrapping process, we must first make sure we know how to answer the following question: What does it mean to *understand* an algorithm? To this end, let's first define the notions of *program* and *algorithm*:\n",
    "\n",
    "A *program* is a list of instructions that a computer can execute.   \n",
    "An *algorithm* is a list of instructions that a computer does not necessarily understand how to execute.   \n",
    "\n",
    "For example, the following is an algorithm:   \n",
    "\n",
    "1. Go to the store. \n",
    "2. Get buy milk. \n",
    "3. Give me back the change.  \n",
    "\n",
    "When we ask what it means to *understand* an algorithm, we must be careful because people often fool themselves into thinking they understand and algorithm when they don’t. One example where this occurs is in the context of the long division algorithm. Although most people know the *steps* required to *execute* the long division algorithm, they don’t often *understand* the long division algorithm. \n",
    "\n",
    "*Understanding* an algorithm requires that the following criteria are satisfied: \n",
    "\n",
    "1. Understanding what *problem* the algorithm solves. \n",
    "2. Understanding how implement the algorithm in a *high-level programming language*. The Python language can be used for this purpose. \n",
    "3. Understanding *how* each step of the program brings us *one step closer to a solution* to the problem specified in the third criterion.     \n",
    "\n",
    "The first and third criteria are crucial because they allow us to see *why* the steps of a given algorithm are not *arbitrary*. In particular, the third criterion depends on the first: we can only understand *how* each step of an algorithm brings us closer to a solution if we understand *what problem* we are trying to solve.     \n",
    "\n",
    "At each step of a given algorithm, we are justified in asking, \"Why did you do that rather than something else?\" If this question cannot be answered, then a lack of understanding is present in the student. Although most people *do* pass step 1 in the case of long division, they fail on the subsequent steps. In other words, most people do not *understand* the long division algorithm. This is no fault of their own. Most schools teach long division with the implicit assumption that as long as one can faithfully execute the instructions associated with the long division algorithm, one can be said to *understand* the long division algorithm.\n",
    "\n",
    "## Building Machines out of Machines \n",
    "\n",
    "We can make our machines more useful if we embed for loops inside of them. For example, the definition of adding 2 + 3 is that we start with 2 and then add 1 to 2 a total of 3 times.  \n",
    "\n",
    "Let's go through our four steps of understandnig the algorithm that adds two integers:\n",
    "\n",
    "1. The algorithm to add x + y requires adding x to itself y times.\n",
    "2. We wil implement this algorithm below as a Python program.\n",
    "3. The algorithm to add two integers solves the problem of obtaining the sum of two integers.\n",
    "Understanding how each step of the algorithm brings us one step closer to a solution to the problem specified in the third criterion.\n",
    "\n",
    "We can accomplish this logic inside of a Python function as follows:"
   ]
  },
  {
   "cell_type": "code",
   "execution_count": 18,
   "metadata": {},
   "outputs": [],
   "source": [
    "def add_one(number: int) -> int:\n",
    "    return number + 1\n",
    "\n",
    "def add_two_integers(addend_1: int, addend_2: int) -> int:\n",
    "    sum_so_far: int = addend_1\n",
    "    for i in range(addend_2):\n",
    "        sum_so_far: int = add_one(sum_so_far)\n",
    "    return sum_so_far\n",
    "\n",
    "add_two_integers(2, 3)"
   ]
  },
  {
   "cell_type": "markdown",
   "metadata": {},
   "source": [
    "Each step of the function `add_two_integers` brings us one step closer to the desired solution, since a solution requires adding `number_1` to itself a total of `number_2` times, and each step adds `number_1` to itself again until this has been done a total of `number_2` times.\n",
    "\n",
    "Now that we have a function such as `add_two_integers`, we can leverage it inside of other functions to build more complex mechanisms out of very simple starting components. \n",
    "\n",
    "For example, we can use it to sum a list of integers as follows:"
   ]
  },
  {
   "cell_type": "code",
   "execution_count": 19,
   "metadata": {},
   "outputs": [],
   "source": [
    "def add_multiple_integers(addends: list[int]):\n",
    "    sum_so_far = 0\n",
    "    for addend in addends:\n",
    "        sum_so_far = add_two_integers(sum_so_far, addend)\n",
    "    return sum_so_far\n",
    "\n",
    "addends = [1, 2, 3, 4]\n",
    "add_multiple_integers(addends)"
   ]
  },
  {
   "cell_type": "markdown",
   "metadata": {},
   "source": [
    "We can also leverage the function `add_two_integers` for multiplication. For example, the definition of multiplying 2 * 3 is that we add 2 to itself a total of three times. In other words, 2 * 3 is equivalent to 2 + 2 + 2. Using this idea, we can *leverage* the function `add_two_integers` that we have already written to implement a function that can multiply two numbers (since multiplication is just repeated addition):"
   ]
  },
  {
   "cell_type": "code",
   "execution_count": 20,
   "metadata": {},
   "outputs": [],
   "source": [
    "def multiply_two_integers(multiplicand: int, multiplier: int) -> int:\n",
    "    product_so_far: int = multiplicand\n",
    "    for i in range(multiplier - 1):\n",
    "        product_so_far: int = add_two_integers(product_so_far, multiplicand)\n",
    "    return product_so_far\n",
    "\n",
    "multiply_two_integers(2, 3)"
   ]
  },
  {
   "cell_type": "markdown",
   "metadata": {},
   "source": [
    "Let’s pause to consider how `multiply_two_integers` works:\n",
    "\n",
    "1. The first line specifies that the name of the function is `multiply_two_integers` and that it expects two inputs. The first input is an integer named number_1 and the second input is an integer named number_2.  \n",
    "2. The second line says a variable named `product_so_far` should be initialized to the value of whatever the first input happens to be.  \n",
    "3. The third line says that each number should be visited within the range [0, number2). For example if number2 has the value of 4, then each number in the set {0, 1, 2, 3} will be visited.\n",
    "4. The fourth line says that each time we hit a new number in the set from step 3, we should add number_1 to our running product.\n",
    "5. Line 5 says that whatever the final value of the variable named `product_so_far` happens to be after the above steps have been completed, that value should be returned from the function as the function’s output.\n",
    "\n",
    "We can carry out similar reasoning to implement subtraction, since the different x -y means that 1 should be subtracted from x a total of y times:"
   ]
  },
  {
   "cell_type": "code",
   "execution_count": 21,
   "metadata": {},
   "outputs": [],
   "source": [
    "def subtract_one(number: int) -> int:\n",
    "    return number - 1\n",
    "\n",
    "def subtract_two_integers(minuend: int, subtrahend: int) -> int:\n",
    "    difference_so_far = minuend\n",
    "    for i in range(subtrahend):\n",
    "        difference_so_far: int = subtract_one(difference_so_far)\n",
    "    return difference_so_far\n",
    "\n",
    "subtract_two_integers(2, 3)"
   ]
  },
  {
   "cell_type": "markdown",
   "metadata": {},
   "source": [
    "We can now use subtraction to implement division. To begin, let's restrict ourselves to only dividing positive integers.   In this case, to divide a dividend `a` by a divisor `b` means that we keep subtracting `b` from `a` as many times as possible before the result goes negative.   \n",
    "\n",
    "The number of times a subtraction operation is carried out is called the `quotient`.   \n",
    "The final value of the dividend after all subtractions are complete is called the `remainder`.\n",
    "\n",
    "For example, consider the problem of dividing 20 by 4. The process of repeated subtraction looks as follows:  \n",
    "\n",
    "20 - 4 = 16  \n",
    "16 - 4 = 12  \n",
    "12 - 4 = 8  \n",
    "8 - 4 = 4  \n",
    "4 - 4 = 0  \n",
    "\n",
    "Notice that if we would subtract 4 again, the result would be -4, which is less than 0. Therefore, we have reached the end of the division process.  \n",
    "\n",
    "In the above example, 5 subtraction operations are carried out. Therefore, the `quotient` is 5. The difference between the result 0 and the number 0 is 0. Therefore, the remainder is `0`.\n",
    "\n",
    "We can check whether or not another subtraction would make the result go negative by checking whether or not the dividend is less than the divisor. If the dividend is less then the divisor, then subtracting the divisor from the dividend will caue the result to go negative.\n",
    "\n",
    "Unlike the algorithms we have seen until now which return just one integer, the division algorithm returns *two* integers: a quotient and a remainder.\n",
    "\n",
    "We can implement this algorithm in Python as follows:"
   ]
  },
  {
   "cell_type": "code",
   "execution_count": 22,
   "metadata": {},
   "outputs": [],
   "source": [
    "def divide_two_positive_integers(dividend: int, divisor: int) -> tuple[int, int]:\n",
    "    quotient = 0\n",
    "    while dividend >= divisor:\n",
    "        dividend -= divisor\n",
    "        quotient += 1\n",
    "    return quotient, dividend\n",
    "\n",
    "divide_two_positive_integers(20, 4)"
   ]
  },
  {
   "cell_type": "markdown",
   "metadata": {},
   "source": [
    "By analyzing the function `divide_two_integers` we can understand why it is ofen said that \"it doesn't make sense to divide by zero.\"   \n",
    "\n",
    "Line 3 of the function says that the loop will only exit once the dividend becomes less than the divisor. However, in the case that the divisor is 0, then line 4 never decrements the value of the dividend and the function will enter an infinite loop which will never return a value.\n",
    "\n",
    "The definition of division may seem arbitrary until we realize that the definition is constructed so that we can always find the answer to an equation that involves the multiplication of two integers.  \n",
    "\n",
    "For example, consider the equation 20 * x = 4.  \n",
    "\n",
    "To find the value of `x` in the above equation, we divide 20 by 4 to obtain the quotient 5. \n",
    "\n",
    "We can extend the above ideas to include division of arbitrary integers by leveraging the division function we just defined.  \n",
    "\n",
    "Our new, more general division function will first take the absolute value of the dividend and the divisor, and then pass them as inputs to our simple division function. Afterwards, the sign of the result will be adjusted after carrying out the usual division:"
   ]
  },
  {
   "cell_type": "code",
   "execution_count": 23,
   "metadata": {},
   "outputs": [],
   "source": [
    "def divide_two_integers(dividend: int, divisor: int) -> int:\n",
    "    signs_are_different: bool = (dividend < 0) != (divisor < 0)\n",
    "    \n",
    "    dividend: int = abs(dividend)\n",
    "    divisor: int = abs(divisor)\n",
    "        \n",
    "    quotient, remainder = divide_two_positive_integers(dividend, divisor)\n",
    "    \n",
    "    if signs_are_different:\n",
    "        quotient = -quotient\n",
    "    \n",
    "    return quotient, remainder\n",
    "\n",
    "\n",
    "divide_two_integers(15, 3)"
   ]
  },
  {
   "cell_type": "markdown",
   "metadata": {},
   "source": [
    "Since exponentiation is just repeated multiplication, we can define an exponentiation function as follows: "
   ]
  },
  {
   "cell_type": "code",
   "execution_count": 24,
   "metadata": {},
   "outputs": [],
   "source": [
    "def exponentiate_two_integers(base: int, exponent: int) -> int:\n",
    "    power_so_far: int = base\n",
    "    for i in range(exponent - 1):\n",
    "        power_so_far = multiply_two_integers(power_so_far, base)\n",
    "    return power_so_far\n",
    "\n",
    "exponentiate_two_integers(2, 3)"
   ]
  },
  {
   "cell_type": "markdown",
   "metadata": {},
   "source": [
    "## Computing Functions Without Computers\n",
    "\n",
    "The Python functions we have written so far, can work with arbitrarily large numbers. However, what would we do if we didn't have a computer at our disposal? For example, suppose we want to add 3,486 + 4,987. To figure out the sum, it would be utterly impractical to start with the number 3,486 and repeatedly add 1 to it 4,987 times! What makes the decimal system more powerful than other numeral systems (such as Roman numerals) is that we can solve such problems by only considering *two digits at a time*. In other words, as long as we have already memorized how to add and multiply single-digit numbers, we can solve problems involving arbitrarily large numbers. This approach to probelm solving where we divide the initial probelm into smaller more manageable chunks is called *divide and conquer*. \n",
    "\n",
    "\n",
    "### Long-Addition\n",
    "\n",
    "We begin with long-addition.  \n",
    "\n",
    "Suppose we want to compute the sum 865 + 32.  \n",
    "\n",
    "First, note that:  \n",
    "\n",
    "865 = 800 + 60 + 5.  \n",
    "\n",
    "Likewise:  \n",
    "\n",
    "32 = 0 + 30 + 2.  \n",
    "\n",
    "Therefore,  \n",
    "\n",
    "865 + 32 = (800 + 60 + 5) + (0 + 30 + 2).  \n",
    "\n",
    "Now, since addition is *associative*, we can group the terms however we want without changing the result.    \n",
    "\n",
    "In particular, we can group the terms according to their place values:  \n",
    "\n",
    "865 + 32 = (800 + 0) + (60 + 30) + (5 + 2) = 800 + 90 + 7 = 897.  \n",
    "\n",
    "This leads us the following algorithm for long addition:\n",
    "\n",
    "1. Pair off digits from each numeral that live in corresponding positions.\n",
    "2. Add any digits that were paired off in step 1.\n",
    "3. The resulting number with these digits in the respective places is the desired sum.\n",
    "\n",
    "Suppose instead that we want to add 765 + 892.  \n",
    "\n",
    "First, note that:  \n",
    "\n",
    "765 = 700 + 60 + 5.  \n",
    "\n",
    "Likewise:  \n",
    "\n",
    "892 = 800 + 90 + 2.  \n",
    "\n",
    "Therefore,  \n",
    "\n",
    "765 + 892 = (700 + 60 + 5) + (800 + 90 + 2).  \n",
    "\n",
    "Using the associative property to group the terms according to place value, we get:\n",
    "\n",
    "765 + 892 = (700 + 800) + (60 + 90) + (5 + 2).  \n",
    "\n",
    "However, futher consideration shows that our second group still has a a term that is in the wrong place since:  \n",
    "\n",
    "765 + 892 = (700 + 800) + (100 + 50) + (5 + 2).  \n",
    "\n",
    "Regrouping once more yields:  \n",
    "\n",
    "765 + 892 = (700 + 800 + 100) + 50 + 7.  \n",
    "\n",
    "This last step of moving the 100 term to the other group is often called \"carrying the one.\"  \n",
    "\n",
    "However, we can see that *\"carrying the 1\" is simply an abbreviated way of regrouping the terms in the sum using the associative property of addition.*\n",
    "\n",
    "Conceptually, the long-addition allows us to go from two integers to two strings of symbols and then back to an integer which represents the sum of the initial two integers.\n",
    "\n",
    "The steps for the long subtraction algorithm are as follows:\n",
    "\n",
    "1. Convert both integers to strings whose characters can be easily manipulated. This will allow you to work with the digits of each number one at a time.\n",
    "\n",
    "2. Pad the shorter number with leading zeros to make it the same length as the longer number. This is necessary to ensure that you can add the digits of both numbers without going out of range.\n",
    "\n",
    "3. Initialize the variable that will store the result to be the empty string.\n",
    "\n",
    "4. Initialize a carry variable to 0.\n",
    "\n",
    "5. Starting from the rightmost digit, add the corresponding digits of both numbers together, along with the carry. If the sum is less than 10, store the result as the corresponding digit of the sum. If the sum is greater than or equal to 10, subtract 10 and store the result as the corresponding digit of the sum, and set the carry to 1.\n",
    "\n",
    "6. Move one digit to the left and repeat step 4, continuing until you have processed all digits.\n",
    "\n",
    "7. If there is still a carry after you have processed all digits, add a new digit to the left of the sum with the value of the carry.\n",
    "\n",
    "7. Convert the result string into an integer and return that integer as the sum.\n",
    "\n",
    "We can implement the standard long-addition algorithm as follows:"
   ]
  },
  {
   "cell_type": "code",
   "execution_count": 25,
   "metadata": {},
   "outputs": [],
   "source": [
    "def convert_integers_to_strings(number_1: int, number_2: int) -> tuple[str, str]:\n",
    "    return str(number_1), str(number_2)\n",
    "\n",
    "def pad_shorter_integer_with_zeros(number_1: str, number_2: str) -> tuple[str, str]:\n",
    "    if len(number_1) < len(number_2):\n",
    "        number_1 = '0' * (len(number_2) - len(number_1)) + number_1\n",
    "    else:\n",
    "        number_2 = '0' * (len(number_1) - len(number_2)) + number_2\n",
    "    return number_1, number_2\n",
    "\n",
    "def get_digit_sum(i: int, number_1: int, number_2: int, carry: int) -> int:\n",
    "    return int(number_1[i]) + int(number_2[i]) + carry\n",
    "\n",
    "def no_carry(digit_sum: int) -> bool:\n",
    "    return digit_sum < 10\n",
    "\n",
    "def get_sum_string_and_carry(digit_sum: int, sum_string: str, is_no_carry_case: bool) -> tuple[str, int]:\n",
    "    if is_no_carry_case:\n",
    "        return str(digit_sum) + sum_string, 0\n",
    "    else:\n",
    "        return str(digit_sum - 10) + sum_string, 1\n",
    "    \n",
    "def handle_final_carry(sum_string: str, carry: int) -> str:\n",
    "    if carry:\n",
    "        sum_string = '1' + sum_string\n",
    "    return sum_string\n",
    "\n",
    "def long_addition(num1: int, num2: int) -> int:\n",
    "    num1, num2 = convert_integers_to_strings(num1, num2)\n",
    "    num1, num2 = pad_shorter_integer_with_zeros(num1, num2)\n",
    "\n",
    "    number_of_iterations = (len(num1) - 1)\n",
    "    sum_str = ''\n",
    "    carry = 0\n",
    "\n",
    "    # starting from the rightmost digit, add corresponding digits of both numbers\n",
    "    for i in range(number_of_iterations, -1, -1):\n",
    "        digit_sum: int = get_digit_sum(i, num1, num2, carry)\n",
    "        is_no_carry_case = no_carry(digit_sum)\n",
    "        sum_str, carry = get_sum_string_and_carry(digit_sum, sum_str, is_no_carry_case)\n",
    "\n",
    "    sum_str: str = handle_final_carry(sum_str, carry)\n",
    "    return int(sum_str)\n",
    "\n",
    "long_addition(200, 50)"
   ]
  },
  {
   "cell_type": "markdown",
   "metadata": {},
   "source": [
    "### Long-Subtraction\n",
    "\n",
    "Suppose we want to compute the difference 1658 - 257. Using expanded form, this is equivalent to:\n",
    "\n",
    "(1000 + 600 + 50 + 8) - (0 + 200 + 50 + 7).\n",
    "\n",
    "Distributing the negative sign yields:\n",
    "\n",
    "1658 - 257 = (1000 + 600 + 50 + 8) - 0 - 200 - 50 - 7.\n",
    "\n",
    "Grouping terms based on place values yields:\n",
    "\n",
    "1658 - 257 = (1000 - 0) + (600 - 200) + (50 - 50) + (8 - 7).\n",
    "\n",
    "We can now easily see that the solution is:\n",
    "\n",
    "1658 - 257 = 1000 + 400 + 0 + 1 = 1401.\n",
    "\n",
    "In other words, the distributing the minus sign and then grouping like terms allows us to compute the correct answer to a subtraction problem by only ever considering two digits at a time.\n",
    "\n",
    "Suppose instead that we want to compute:\n",
    "\n",
    "756 - 389. Using expanded form, we have:\n",
    "\n",
    "756 - 389 = (700 + 50 + 6) - (300 +  80 + 9).\n",
    "\n",
    "Distributing the minus sign yields:\n",
    "\n",
    "756 - 389 = (700 + 50 + 6) - 300 - 80 - 9).\n",
    "\n",
    "Grouping like terms yields:\n",
    "\n",
    "756 - 389 = (700 - 300) + (50 - 80) + (6 - 9).\n",
    "\n",
    "However, now we have a problem since in the last two terms we are subtracting a larger number from a smaller number, and we don't want to deal with negative numbers.\n",
    "\n",
    "A conventional solution to this problem involves incrementing the smaller value in one term by the next-highest place value and then compensating for this increment by decrementing the term to the left by the same amount. Applying this \"borrowing\" technique yields:\n",
    "\n",
    "756 - 389 = (700 - 300) + (50 **- 10** - 80) + (**10** + 6 - 9).\n",
    "\n",
    "Simplifying, we get:\n",
    "\n",
    "756 - 389 = (700 - 300) + (40 - 80) + (16 - 9).\n",
    "\n",
    "Although the rightmost difference will no longer go negative, the term to the left of it will go negative, so we must \"borrow\" again as follows:\n",
    "\n",
    "756 - 389 = (700 - 100 - 300) + (100 + 40 - 80) + (16 - 9).\n",
    "\n",
    "Simplifying gives:\n",
    "\n",
    "756 - 389 = (700 - 100 - 300) + (100 + 40 - 80) + (16 - 9).\n",
    "\n",
    "756 - 389 = (600 - 300) + (140 - 80) + (16 - 9).\n",
    "\n",
    "This yields:\n",
    "\n",
    "756 - 389 = 300 + 60 + 7 = 367.\n",
    "\n",
    "If we think in terms of individual digits, then borrowing corresponds to saying that if the difference between two individual digits is negative, then we add 10 to the difference to make it go positive, and we set the carry to 1. In the next difference, we subtract 1 from the difference to compensate for the previous addition.\n",
    "\n",
    "The steps for the long subtraction algorithm are as follows:\n",
    "\n",
    "1. Convert the numbers to be subtracted into strings.\n",
    "\n",
    "2. Find the length of the strings and pad the shorter string with zeros at the beginning to make both strings of equal length.\n",
    "\n",
    "3. Create a variable to hold the result of the subtraction and initialize it to an empty string.\n",
    "\n",
    "4. Set a carry-over variable to 0.\n",
    "\n",
    "5. Loop through the digits of the numbers from right to left.\n",
    "\n",
    "6. Subtract the digits at the corresponding place value and the carry-over, and append the result to the result variable.\n",
    "\n",
    "7. If the result is negative, add 10 to the result and set the carry-over variable to 1.\n",
    "\n",
    "8. If the result is non-negative, set the carry-over variable to 0.\n",
    "\n",
    "9. After the loop has completed, remove any leading zeros from the result string and return it.\n",
    "\n",
    "This algorithm can be implemented in Python as follows:"
   ]
  },
  {
   "cell_type": "code",
   "execution_count": 26,
   "metadata": {},
   "outputs": [],
   "source": [
    "def remove_leading_zeros(number: str) -> str:\n",
    "    return number.lstrip('0')\n",
    "\n",
    "def handle_empty_string(number: str) -> str:\n",
    "    if not number:\n",
    "        number = '0'\n",
    "    return number\n",
    "\n",
    "def long_subtraction(num1: int, num2: int):\n",
    "    num1, num2 = convert_integers_to_strings(num1, num2)\n",
    "    num1, num2 = pad_shorter_integer_with_zeros(num1, num2)\n",
    "\n",
    "    number_of_iterations = (len(num1) - 1)\n",
    "    result = ''\n",
    "    carry = 0\n",
    "\n",
    "    # iterate over the digits from right to left\n",
    "    for i in range(number_of_iterations, -1, -1):\n",
    "        digit1 = int(num1[i])\n",
    "        digit2 = int(num2[i])\n",
    "        diff = digit1 - digit2 - carry\n",
    "\n",
    "        if diff < 0:\n",
    "            diff += 10\n",
    "            carry = 1\n",
    "        else:\n",
    "            carry = 0\n",
    "        result: str = str(diff) + result\n",
    "\n",
    "    result: str = remove_leading_zeros(result)\n",
    "    result: str = handle_empty_string(result)\n",
    "    return result\n",
    "\n",
    "num1 = 756\n",
    "num2 = 389\n",
    "result = long_subtraction(num1, num2)\n",
    "print(result)  \n"
   ]
  },
  {
   "cell_type": "markdown",
   "metadata": {},
   "source": [
    "### Long Multiplication\n",
    "\n",
    "Recall that multiplication is defined as repeated addition. However, it is often the case that mathematical definitions are not very helpful in practice without some additional help. For example, suppose we want to compute 852× 73. According to the definition of multiplication, this product is equal to 852 + · · ·+ 852 (73 times).  \n",
    "\n",
    "We now take up the question of how to avoid the tedium of adding 852 to itself 73 times in order to compute 852 × 73. \n",
    "Recall that our main technique in the addition and subtraction algorithms was to break one large problem into many smaller problems by exploiting some arithmetic property such as associativity of addition, for example. \n",
    "\n",
    "We will see that the multiplication algorithm exploits the *distributive property* of multiplication. This property allows us to restrict our attention to only two digits at a time. For this reason, the multiplication algorithm assumes that the entire multiplication table for single digit multiplication has already been memorized.\n",
    "\n",
    "The distributive property of multiplication states that for any three natural numbers m, n, and l, the following is true:\n",
    "\n",
    "m(n + l) = mn + ml.\n",
    "\n",
    "We say that *multiplication distrubutes over addition).\n",
    "\n",
    "For example, suppose we want to compute 852 x 3. We begin by expanding each number:\n",
    "\n",
    "852 x 3 = (800 + 50 + 2) x 3.  \n",
    "\n",
    "Now, we express each number as a product of some power of ten and a single-digit number:\n",
    "\n",
    "852 x 3 = ((8 x 100) + (5 x 10) + 2) x 3.  \n",
    "\n",
    "Notice that the 3 on the outside multiplies three distinct terms. Distributing the 3 to each of the terms yields: \n",
    "\n",
    "852 x 3 = ((8 x 3 100) + (5 x 3 10) + (2 x 3)).  \n",
    "\n",
    "Simplifying yields:\n",
    "\n",
    "852 x 3 = (24 x 100) + (15 x 10) + 6. \n",
    "852 x 3 = (24 x 100) + ((10 + 5) x 10) + 6.\n",
    "\n",
    "To understand how the multiplication algorithm works, we need to proceed slowly in steps of increasingly difficult problems. In particular, we will consider the following:  \n",
    "\n",
    "1. The multiplication of an arbitrary number by a single-digit number.\n",
    "2.\tThe multiplication of an arbitrary number by an arbitrary number.  \n",
    "\n",
    "To illustrate, we will show how 852 × 73 can be computed if we separately know how to compute 852 x 3 and 852 x 7.\n",
    "\n",
    "To multiply 852 x 3:\n",
    "\n",
    "Multiply each of the digits of 852 by 3, from right to left:"
   ]
  },
  {
   "cell_type": "code",
   "execution_count": 27,
   "metadata": {},
   "outputs": [],
   "source": [
    "def get_initial_product(number: int) -> list[int]:\n",
    "    return [0] * (2 * len(number))\n",
    "\n",
    "def get_digit_product(number_1: str, number_2: str, i: int, j: int) -> int:\n",
    "    return int(number_1[j]) * int(number_2[i])\n",
    "\n",
    "def get_digit_sum(digit_product: int, product: list[int], i: int, j: int, carry: int) -> int:\n",
    "    return digit_product + product[i+j+1] + carry\n",
    "\n",
    "def set_new_product(product: list[int], digit_sum: int, i: int, j: int) -> None:\n",
    "    product[i+j+1] = digit_sum % 10\n",
    "    \n",
    "def get_carry(digit_sum: int) -> int:\n",
    "    return digit_sum // 10\n",
    "\n",
    "def remove_leading_zeros(product: list[int]) -> list[int]:\n",
    "    return product if product[0] != 0 else product[1:]\n",
    "\n",
    "def convert_product_list_to_string(product: list[int]) -> str:\n",
    "    return ''.join(str(digit) for digit in product)\n",
    "\n",
    "\n",
    "def long_multiplication(num1: int, num2: int):    \n",
    "    num1, num2 = convert_integers_to_strings(num1, num2)\n",
    "    num1, num2 = pad_shorter_integer_with_zeros(num1, num2)\n",
    "\n",
    "    product = get_initial_product(num1)\n",
    "    number_of_iterations = (len(num1) - 1)\n",
    "\n",
    "    for i in range(number_of_iterations, -1, -1):\n",
    "        carry = 0\n",
    "        for j in range(number_of_iterations, -1, -1):\n",
    "            digit_product = get_digit_product(num1, num2, i, j)\n",
    "            digit_sum = get_digit_sum(digit_product, product, i,j, carry)\n",
    "            set_new_product(product, digit_sum, i, j)\n",
    "            carry = get_carry(digit_sum)\n",
    "        product[i] = carry\n",
    "\n",
    "    product = remove_leading_zeros(product)\n",
    "    result = convert_product_list_to_string(product)\n",
    "    return result\n",
    "\n",
    "\n",
    "print(long_multiplication(25, 25))\n"
   ]
  },
  {
   "cell_type": "code",
   "execution_count": 28,
   "metadata": {},
   "outputs": [],
   "source": [
    "def long_division(dividend: int, divisor: int) -> tuple[int, int]:\n",
    "    quotient = 0\n",
    "    remainder = 0\n",
    "    \n",
    "    dividend_str = str(dividend)\n",
    "    for i in range(len(dividend_str)):\n",
    "        digit = int(dividend_str[i])\n",
    "        remainder = remainder * 10 + digit\n",
    "        if remainder >= divisor:\n",
    "            quotient_digit = remainder // divisor\n",
    "            remainder = remainder % divisor\n",
    "            quotient = quotient * 10 + quotient_digit\n",
    "        else:\n",
    "            quotient = quotient * 10\n",
    "    return quotient, remainder\n",
    "\n",
    "long_division(100, 25)"
   ]
  },
  {
   "cell_type": "markdown",
   "metadata": {},
   "source": [
    "### Fractions and Fraction Operations"
   ]
  },
  {
   "cell_type": "code",
   "execution_count": 29,
   "metadata": {},
   "outputs": [],
   "source": [
    "import math\n",
    "\n",
    "def simplify_fraction(numerator, denominator):\n",
    "    gcd = math.gcd(numerator, denominator)\n",
    "    numerator //= gcd\n",
    "    denominator //= gcd\n",
    "    return numerator, denominator\n",
    "\n",
    "def add_fractions(num1, den1, num2, den2):\n",
    "    common_denominator = den1 * den2 // math.gcd(den1, den2)\n",
    "    new_num1 = num1 * (common_denominator // den1)\n",
    "    new_num2 = num2 * (common_denominator // den2)\n",
    "    sum_num = new_num1 + new_num2\n",
    "    return simplify_fraction(sum_num, common_denominator)\n",
    "\n",
    "def subtract_fractions(num1, den1, num2, den2):\n",
    "    common_denominator = den1 * den2 // math.gcd(den1, den2)\n",
    "    new_num1 = num1 * (common_denominator // den1)\n",
    "    new_num2 = num2 * (common_denominator // den2)\n",
    "    diff_num = new_num1 - new_num2\n",
    "    return simplify_fraction(diff_num, common_denominator)\n",
    "\n",
    "def multiply_fractions(num1, den1, num2, den2):\n",
    "    product_num = num1 * num2\n",
    "    product_den = den1 * den2\n",
    "    return simplify_fraction(product_num, product_den)\n",
    "\n",
    "def divide_fractions(num1, den1, num2, den2):\n",
    "    flipped_num2, flipped_den2 = den2, num2\n",
    "    return multiply_fractions(num1, den1, flipped_num2, flipped_den2)\n",
    "\n",
    "simplify_fraction(10, 2)\n",
    "add_fractions(1, 4, 2, 4)"
   ]
  },
  {
   "cell_type": "code",
   "execution_count": null,
   "metadata": {},
   "outputs": [],
   "source": []
  }
 ],
 "metadata": {
  "kernelspec": {
   "display_name": "Python 3 (ipykernel)",
   "language": "python",
   "name": "python3"
  },
  "language_info": {
   "codemirror_mode": {
    "name": "ipython",
    "version": 3
   },
   "file_extension": ".py",
   "mimetype": "text/x-python",
   "name": "python",
   "nbconvert_exporter": "python",
   "pygments_lexer": "ipython3",
   "version": "3.11.1"
  }
 },
 "nbformat": 4,
 "nbformat_minor": 2
}
